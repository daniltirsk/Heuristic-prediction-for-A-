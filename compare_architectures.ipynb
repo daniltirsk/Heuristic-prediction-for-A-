{
  "nbformat": 4,
  "nbformat_minor": 0,
  "metadata": {
    "colab": {
      "name": "compare_architectures.ipynb",
      "provenance": []
    },
    "kernelspec": {
      "name": "python3",
      "display_name": "Python 3"
    },
    "language_info": {
      "name": "python"
    },
    "accelerator": "GPU",
    "gpuClass": "standard"
  },
  "cells": [
    {
      "cell_type": "code",
      "execution_count": null,
      "metadata": {
        "id": "48af7a83-b074-47f1-a1de-cb4da97f6f1d",
        "colab": {
          "base_uri": "https://localhost:8080/"
        },
        "outputId": "9b3f9c39-ce02-483a-c00d-1ecf08a217bd"
      },
      "outputs": [
        {
          "output_type": "stream",
          "name": "stdout",
          "text": [
            "Cloning into 'neural-astar'...\n",
            "remote: Enumerating objects: 218, done.\u001b[K\n",
            "remote: Counting objects: 100% (58/58), done.\u001b[K\n",
            "remote: Compressing objects: 100% (44/44), done.\u001b[K\n",
            "remote: Total 218 (delta 20), reused 48 (delta 14), pack-reused 160\u001b[K\n",
            "Receiving objects: 100% (218/218), 80.61 MiB | 11.52 MiB/s, done.\n",
            "Resolving deltas: 100% (71/71), done.\n"
          ]
        }
      ],
      "source": [
        "!git clone https://github.com/daniltirsk/neural-astar"
      ]
    },
    {
      "cell_type": "code",
      "source": [
        "%cd .."
      ],
      "metadata": {
        "colab": {
          "base_uri": "https://localhost:8080/"
        },
        "id": "G_zFzmvY2hzt",
        "outputId": "7c3e3f26-d6e8-4cac-904e-3773184f9322"
      },
      "execution_count": null,
      "outputs": [
        {
          "output_type": "stream",
          "name": "stdout",
          "text": [
            "/content\n"
          ]
        }
      ]
    },
    {
      "cell_type": "code",
      "source": [
        "!rm -r neural-astar"
      ],
      "metadata": {
        "id": "p-q5sOfa2jxs"
      },
      "execution_count": null,
      "outputs": []
    },
    {
      "cell_type": "code",
      "execution_count": null,
      "metadata": {
        "id": "7c736d92-e32a-4db6-84ca-7489745d3bf1",
        "colab": {
          "base_uri": "https://localhost:8080/"
        },
        "outputId": "60c8a484-3cdb-43da-c71e-e55609fccae7"
      },
      "outputs": [
        {
          "output_type": "stream",
          "name": "stdout",
          "text": [
            "/content/neural-astar\n",
            "Looking in indexes: https://pypi.org/simple, https://us-python.pkg.dev/colab-wheels/public/simple/\n",
            "Processing /content/neural-astar\n",
            "\u001b[33m  DEPRECATION: A future pip version will change local packages to be built in-place without first copying to a temporary directory. We recommend you use --use-feature=in-tree-build to test your packages with this new behavior before it becomes the default.\n",
            "   pip 21.3 will remove support for this functionality. You can find discussion regarding this at https://github.com/pypa/pip/issues/7555.\u001b[0m\n",
            "Requirement already satisfied: torch>=1.8.0 in /usr/local/lib/python3.7/dist-packages (from neural-astar==0.1.0) (1.12.0+cu113)\n",
            "Requirement already satisfied: torchvision>=0.9.0 in /usr/local/lib/python3.7/dist-packages (from neural-astar==0.1.0) (0.13.0+cu113)\n",
            "Requirement already satisfied: segmentation-models-pytorch>=0.1.2 in /usr/local/lib/python3.7/dist-packages (from neural-astar==0.1.0) (0.2.1)\n",
            "Requirement already satisfied: timm>=0.3.2 in /usr/local/lib/python3.7/dist-packages (from neural-astar==0.1.0) (0.4.12)\n",
            "Requirement already satisfied: numpy>=1.19.2 in /usr/local/lib/python3.7/dist-packages (from neural-astar==0.1.0) (1.21.6)\n",
            "Requirement already satisfied: tensorboard>=2.5 in /usr/local/lib/python3.7/dist-packages (from neural-astar==0.1.0) (2.8.0)\n",
            "Requirement already satisfied: moviepy>=1.0.3 in /usr/local/lib/python3.7/dist-packages (from neural-astar==0.1.0) (1.0.3)\n",
            "Requirement already satisfied: imageio-ffmpeg>=0.2.0 in /usr/local/lib/python3.7/dist-packages (from moviepy>=1.0.3->neural-astar==0.1.0) (0.4.7)\n",
            "Requirement already satisfied: proglog<=1.0.0 in /usr/local/lib/python3.7/dist-packages (from moviepy>=1.0.3->neural-astar==0.1.0) (0.1.10)\n",
            "Requirement already satisfied: requests<3.0,>=2.8.1 in /usr/local/lib/python3.7/dist-packages (from moviepy>=1.0.3->neural-astar==0.1.0) (2.23.0)\n",
            "Requirement already satisfied: tqdm<5.0,>=4.11.2 in /usr/local/lib/python3.7/dist-packages (from moviepy>=1.0.3->neural-astar==0.1.0) (4.64.0)\n",
            "Requirement already satisfied: decorator<5.0,>=4.0.2 in /usr/local/lib/python3.7/dist-packages (from moviepy>=1.0.3->neural-astar==0.1.0) (4.4.2)\n",
            "Requirement already satisfied: imageio<3.0,>=2.5 in /usr/local/lib/python3.7/dist-packages (from moviepy>=1.0.3->neural-astar==0.1.0) (2.19.3)\n",
            "Requirement already satisfied: pillow>=8.3.2 in /usr/local/lib/python3.7/dist-packages (from imageio<3.0,>=2.5->moviepy>=1.0.3->neural-astar==0.1.0) (9.2.0)\n",
            "Requirement already satisfied: chardet<4,>=3.0.2 in /usr/local/lib/python3.7/dist-packages (from requests<3.0,>=2.8.1->moviepy>=1.0.3->neural-astar==0.1.0) (3.0.4)\n",
            "Requirement already satisfied: urllib3!=1.25.0,!=1.25.1,<1.26,>=1.21.1 in /usr/local/lib/python3.7/dist-packages (from requests<3.0,>=2.8.1->moviepy>=1.0.3->neural-astar==0.1.0) (1.24.3)\n",
            "Requirement already satisfied: certifi>=2017.4.17 in /usr/local/lib/python3.7/dist-packages (from requests<3.0,>=2.8.1->moviepy>=1.0.3->neural-astar==0.1.0) (2022.6.15)\n",
            "Requirement already satisfied: idna<3,>=2.5 in /usr/local/lib/python3.7/dist-packages (from requests<3.0,>=2.8.1->moviepy>=1.0.3->neural-astar==0.1.0) (2.10)\n",
            "Requirement already satisfied: efficientnet-pytorch==0.6.3 in /usr/local/lib/python3.7/dist-packages (from segmentation-models-pytorch>=0.1.2->neural-astar==0.1.0) (0.6.3)\n",
            "Requirement already satisfied: pretrainedmodels==0.7.4 in /usr/local/lib/python3.7/dist-packages (from segmentation-models-pytorch>=0.1.2->neural-astar==0.1.0) (0.7.4)\n",
            "Requirement already satisfied: munch in /usr/local/lib/python3.7/dist-packages (from pretrainedmodels==0.7.4->segmentation-models-pytorch>=0.1.2->neural-astar==0.1.0) (2.5.0)\n",
            "Requirement already satisfied: protobuf>=3.6.0 in /usr/local/lib/python3.7/dist-packages (from tensorboard>=2.5->neural-astar==0.1.0) (3.17.3)\n",
            "Requirement already satisfied: tensorboard-plugin-wit>=1.6.0 in /usr/local/lib/python3.7/dist-packages (from tensorboard>=2.5->neural-astar==0.1.0) (1.8.1)\n",
            "Requirement already satisfied: google-auth<3,>=1.6.3 in /usr/local/lib/python3.7/dist-packages (from tensorboard>=2.5->neural-astar==0.1.0) (1.35.0)\n",
            "Requirement already satisfied: tensorboard-data-server<0.7.0,>=0.6.0 in /usr/local/lib/python3.7/dist-packages (from tensorboard>=2.5->neural-astar==0.1.0) (0.6.1)\n",
            "Requirement already satisfied: wheel>=0.26 in /usr/local/lib/python3.7/dist-packages (from tensorboard>=2.5->neural-astar==0.1.0) (0.37.1)\n",
            "Requirement already satisfied: markdown>=2.6.8 in /usr/local/lib/python3.7/dist-packages (from tensorboard>=2.5->neural-astar==0.1.0) (3.3.7)\n",
            "Requirement already satisfied: absl-py>=0.4 in /usr/local/lib/python3.7/dist-packages (from tensorboard>=2.5->neural-astar==0.1.0) (1.1.0)\n",
            "Requirement already satisfied: google-auth-oauthlib<0.5,>=0.4.1 in /usr/local/lib/python3.7/dist-packages (from tensorboard>=2.5->neural-astar==0.1.0) (0.4.6)\n",
            "Requirement already satisfied: grpcio>=1.24.3 in /usr/local/lib/python3.7/dist-packages (from tensorboard>=2.5->neural-astar==0.1.0) (1.47.0)\n",
            "Requirement already satisfied: werkzeug>=0.11.15 in /usr/local/lib/python3.7/dist-packages (from tensorboard>=2.5->neural-astar==0.1.0) (1.0.1)\n",
            "Requirement already satisfied: setuptools>=41.0.0 in /usr/local/lib/python3.7/dist-packages (from tensorboard>=2.5->neural-astar==0.1.0) (57.4.0)\n",
            "Requirement already satisfied: six>=1.9.0 in /usr/local/lib/python3.7/dist-packages (from google-auth<3,>=1.6.3->tensorboard>=2.5->neural-astar==0.1.0) (1.15.0)\n",
            "Requirement already satisfied: pyasn1-modules>=0.2.1 in /usr/local/lib/python3.7/dist-packages (from google-auth<3,>=1.6.3->tensorboard>=2.5->neural-astar==0.1.0) (0.2.8)\n",
            "Requirement already satisfied: cachetools<5.0,>=2.0.0 in /usr/local/lib/python3.7/dist-packages (from google-auth<3,>=1.6.3->tensorboard>=2.5->neural-astar==0.1.0) (4.2.4)\n",
            "Requirement already satisfied: rsa<5,>=3.1.4 in /usr/local/lib/python3.7/dist-packages (from google-auth<3,>=1.6.3->tensorboard>=2.5->neural-astar==0.1.0) (4.8)\n",
            "Requirement already satisfied: requests-oauthlib>=0.7.0 in /usr/local/lib/python3.7/dist-packages (from google-auth-oauthlib<0.5,>=0.4.1->tensorboard>=2.5->neural-astar==0.1.0) (1.3.1)\n",
            "Requirement already satisfied: importlib-metadata>=4.4 in /usr/local/lib/python3.7/dist-packages (from markdown>=2.6.8->tensorboard>=2.5->neural-astar==0.1.0) (4.12.0)\n",
            "Requirement already satisfied: zipp>=0.5 in /usr/local/lib/python3.7/dist-packages (from importlib-metadata>=4.4->markdown>=2.6.8->tensorboard>=2.5->neural-astar==0.1.0) (3.8.0)\n",
            "Requirement already satisfied: typing-extensions>=3.6.4 in /usr/local/lib/python3.7/dist-packages (from importlib-metadata>=4.4->markdown>=2.6.8->tensorboard>=2.5->neural-astar==0.1.0) (4.1.1)\n",
            "Requirement already satisfied: pyasn1<0.5.0,>=0.4.6 in /usr/local/lib/python3.7/dist-packages (from pyasn1-modules>=0.2.1->google-auth<3,>=1.6.3->tensorboard>=2.5->neural-astar==0.1.0) (0.4.8)\n",
            "Requirement already satisfied: oauthlib>=3.0.0 in /usr/local/lib/python3.7/dist-packages (from requests-oauthlib>=0.7.0->google-auth-oauthlib<0.5,>=0.4.1->tensorboard>=2.5->neural-astar==0.1.0) (3.2.0)\n",
            "Building wheels for collected packages: neural-astar\n",
            "  Building wheel for neural-astar (setup.py) ... \u001b[?25l\u001b[?25hdone\n",
            "  Created wheel for neural-astar: filename=neural_astar-0.1.0-py3-none-any.whl size=11871 sha256=4a190318349e8b6895270a9b3345ac356bc5b84d9a9455c31f70176bea26a10d\n",
            "  Stored in directory: /root/.cache/pip/wheels/e3/0e/7c/0f9c126ae8f463a446608b22e3e49c22d2c039444d6fa5f0e5\n",
            "Successfully built neural-astar\n",
            "Installing collected packages: neural-astar\n",
            "  Attempting uninstall: neural-astar\n",
            "    Found existing installation: neural-astar 0.1.0\n",
            "    Uninstalling neural-astar-0.1.0:\n",
            "      Successfully uninstalled neural-astar-0.1.0\n",
            "Successfully installed neural-astar-0.1.0\n"
          ]
        }
      ],
      "source": [
        "%cd neural-astar\n",
        "!pip install ."
      ]
    },
    {
      "cell_type": "code",
      "execution_count": null,
      "metadata": {
        "id": "911b7680-5ae9-4607-9757-939d006369ed"
      },
      "outputs": [],
      "source": [
        "import matplotlib.pyplot as plt\n",
        "import torch\n",
        "from tqdm import tqdm\n",
        "import numpy as np\n",
        "\n",
        "from neural_astar.planner import NeuralAstar, VanillaAstar\n",
        "from neural_astar.utils.data import create_dataloader\n",
        "from neural_astar.utils.training import set_global_seeds, calc_metrics_from_multiple_results, visualize_results\n",
        "\n",
        "device = \"cuda\" if torch.cuda.is_available() else \"cpu\""
      ]
    },
    {
      "cell_type": "code",
      "source": [
        "import tensorflow as tf"
      ],
      "metadata": {
        "id": "UV09SGc_vR4N"
      },
      "execution_count": null,
      "outputs": []
    },
    {
      "cell_type": "code",
      "execution_count": null,
      "metadata": {
        "id": "0c659be5-9df2-4de3-948e-8e948eb9faf4"
      },
      "outputs": [],
      "source": [
        "neural_astar_cnn = NeuralAstar(encoder_arch='CNN').to(device)\n",
        "neural_astar_cnn.load_state_dict(torch.load(\"/content/drive/MyDrive/tirskikh/best_cnn.pt\", map_location=torch.device(device)))\n",
        "\n",
        "neural_astar_unet = NeuralAstar(encoder_arch='Unet').to(device)\n",
        "neural_astar_unet.load_state_dict(torch.load(\"/content/drive/MyDrive/tirskikh/best_unet.pt\", map_location=torch.device(device)))\n",
        "\n",
        "vanilla_astar = VanillaAstar().to(device)"
      ]
    },
    {
      "cell_type": "code",
      "source": [
        "model_1 = tf.keras.models.load_model(\"/content/drive/MyDrive/tirskikh/a_star_heuristic_model_4_3\")\n",
        "model_2 = tf.keras.models.load_model(\"/content/drive/MyDrive/tirskikh/a_star_heuristic_model_4\")"
      ],
      "metadata": {
        "id": "ZJCSB9mpvKST"
      },
      "execution_count": null,
      "outputs": []
    },
    {
      "cell_type": "code",
      "source": [
        "SHAPE = (64,64)"
      ],
      "metadata": {
        "id": "nh0g6yMPEfRI"
      },
      "execution_count": null,
      "outputs": []
    },
    {
      "cell_type": "code",
      "source": [
        "!unzip \"/content/drive/MyDrive/tirskikh/hard_dataset_4.zip\""
      ],
      "metadata": {
        "colab": {
          "base_uri": "https://localhost:8080/"
        },
        "id": "o0s02PzxF7-6",
        "outputId": "53d71aec-d4e1-4cf2-a2a0-f4e8cdfefec2"
      },
      "execution_count": null,
      "outputs": [
        {
          "output_type": "stream",
          "name": "stdout",
          "text": [
            "Archive:  /content/drive/MyDrive/tirskikh/hard_dataset_4.zip\n",
            "  inflating: annotations.csv         \n",
            "  inflating: maps.npz                \n",
            "  inflating: heuristics.npz          \n"
          ]
        }
      ]
    },
    {
      "cell_type": "code",
      "source": [
        "import pandas as pd\n",
        "annot = pd.read_csv(\"./annotations.csv\")"
      ],
      "metadata": {
        "id": "l1eNs0IQGPjS"
      },
      "execution_count": null,
      "outputs": []
    },
    {
      "cell_type": "code",
      "source": [
        "heuristics = np.load(\"./heuristics.npz\")"
      ],
      "metadata": {
        "id": "mPliKf33xHIJ"
      },
      "execution_count": null,
      "outputs": []
    },
    {
      "cell_type": "code",
      "source": [
        "maps_b = np.load(\"./maps.npz\")"
      ],
      "metadata": {
        "id": "bwk3pwXgxcnE"
      },
      "execution_count": null,
      "outputs": []
    },
    {
      "cell_type": "code",
      "source": [
        "DATASET_SIZE = 30000"
      ],
      "metadata": {
        "id": "VUCl4AcOind5"
      },
      "execution_count": null,
      "outputs": []
    },
    {
      "cell_type": "code",
      "source": [
        "y = []\n",
        "maps = []\n",
        "starts = []\n",
        "goals = []\n",
        "\n",
        "cnt = 0\n",
        "\n",
        "for name in annot['name']:\n",
        "    data = annot.loc[annot['name'] == name]\n",
        "    map = np.unpackbits(maps_b[name], count=SHAPE[0]*SHAPE[1]).reshape(SHAPE).view(bool)\n",
        "    start = np.zeros(SHAPE)\n",
        "    start[data['starty'],data['startx']] = 1\n",
        "    goal = np.zeros(SHAPE, dtype=\"uint8\")\n",
        "    goal[data['goaly'],data['goalx']] = 1\n",
        "\n",
        "    heuristic = heuristics[name]\n",
        "\n",
        "    maps.append(map)\n",
        "    starts.append(start)\n",
        "    goals.append(goal)\n",
        "\n",
        "    y.append(heuristic)\n",
        "\n",
        "    cnt += 1\n",
        "    if cnt%1000 == 0:\n",
        "      print(cnt)\n",
        "      break"
      ],
      "metadata": {
        "colab": {
          "base_uri": "https://localhost:8080/"
        },
        "id": "mlgKe5eEvfbP",
        "outputId": "86b8e46e-79c9-40e0-a619-d4448e0d2782"
      },
      "execution_count": null,
      "outputs": [
        {
          "output_type": "stream",
          "name": "stdout",
          "text": [
            "1000\n"
          ]
        }
      ]
    },
    {
      "cell_type": "code",
      "source": [
        "y_pred = model_1(np.stack([np.stack(maps),goals],axis=3), training=False)\n",
        "c1 = y_pred.numpy()\n",
        "costs1 = np.stack(c1).reshape((-1,1,64,64)).astype(np.float32)\n",
        "costs_1 = torch.Tensor(costs1).to(device)"
      ],
      "metadata": {
        "id": "otSkibAhwEMq"
      },
      "execution_count": null,
      "outputs": []
    },
    {
      "cell_type": "code",
      "source": [
        "y_pred = model_2(np.stack([np.stack(maps),goals],axis=3), training=False)\n",
        "c2 = y_pred.numpy()\n",
        "costs2 = np.stack(c2).reshape((-1,1,64,64)).astype(np.float32)\n",
        "costs_2 = torch.Tensor(costs2).to(device)"
      ],
      "metadata": {
        "id": "4MNc5CG7wiqT"
      },
      "execution_count": null,
      "outputs": []
    },
    {
      "cell_type": "code",
      "source": [
        "test_maps = np.invert(np.stack(maps)).reshape((-1,1,64,64)).astype(np.float32)\n",
        "test_goals = np.stack(goals).reshape((-1,1,64,64)).astype(np.float32)\n",
        "test_starts = np.stack(starts).reshape((-1,1,64,64)).astype(np.float32)"
      ],
      "metadata": {
        "id": "mfia3jdMWcFX"
      },
      "execution_count": null,
      "outputs": []
    },
    {
      "cell_type": "code",
      "source": [
        "test_maps = torch.Tensor(test_maps).to(device)\n",
        "test_goals = torch.Tensor(test_goals).to(device)\n",
        "test_starts = torch.Tensor(test_starts).to(device)"
      ],
      "metadata": {
        "id": "HgS8NFrbxVHk"
      },
      "execution_count": null,
      "outputs": []
    },
    {
      "cell_type": "code",
      "source": [
        "neural_astar_cnn.eval()\n",
        "neural_astar_unet.eval()\n",
        "\n",
        "na_cnn_outputs = []\n",
        "na_unet_outputs = []\n",
        "va_outputs = []\n",
        "m1_outputs = []\n",
        "m2_outputs = []\n",
        "\n",
        "with torch.no_grad():\n",
        "  for i in range(0,1000,100):\n",
        "    print(i)\n",
        "    na_cnn_outputs.append(neural_astar_cnn(test_maps[i:i+100], test_starts[i:i+100], test_goals[i:i+100]))\n",
        "    na_unet_outputs.append(neural_astar_unet(test_maps[i:i+100], test_starts[i:i+100], test_goals[i:i+100]))\n",
        "    va_outputs.append(vanilla_astar(test_maps[i:i+100], test_starts[i:i+100], test_goals[i:i+100]))\n",
        "    m1_outputs.append(vanilla_astar(test_maps[i:i+100], test_starts[i:i+100], test_goals[i:i+100], cost_maps=costs_1[i:i+100]))\n",
        "    m2_outputs.append(vanilla_astar(test_maps[i:i+100], test_starts[i:i+100], test_goals[i:i+100], cost_maps=costs_2[i:i+100]))"
      ],
      "metadata": {
        "colab": {
          "base_uri": "https://localhost:8080/"
        },
        "id": "zqbjPWFIuLxE",
        "outputId": "f077ceb8-e635-42de-aded-cf0e1021fb5e"
      },
      "execution_count": null,
      "outputs": [
        {
          "output_type": "stream",
          "name": "stdout",
          "text": [
            "0\n"
          ]
        },
        {
          "output_type": "stream",
          "name": "stderr",
          "text": [
            "/usr/local/lib/python3.7/dist-packages/torch/functional.py:478: UserWarning: torch.meshgrid: in an upcoming release, it will be required to pass the indexing argument. (Triggered internally at  ../aten/src/ATen/native/TensorShape.cpp:2894.)\n",
            "  return _VF.meshgrid(tensors, **kwargs)  # type: ignore[attr-defined]\n"
          ]
        },
        {
          "output_type": "stream",
          "name": "stdout",
          "text": [
            "100\n",
            "200\n",
            "300\n",
            "400\n",
            "500\n",
            "600\n",
            "700\n",
            "800\n",
            "900\n"
          ]
        }
      ]
    },
    {
      "cell_type": "code",
      "source": [
        "neural_astar_cnn.eval()\n",
        "neural_astar_unet.eval()\n",
        "\n",
        "na_cnn_outputs = []\n",
        "na_unet_outputs = []\n",
        "va_outputs = []\n",
        "m1_outputs = []\n",
        "m2_outputs = []\n",
        "\n",
        "\n",
        "s = 10\n",
        "e = 15\n",
        "with torch.no_grad():\n",
        "  for i in range(s,e,100):\n",
        "    print(i)\n",
        "    na_cnn_outputs.append(neural_astar_cnn(test_maps[i:i+5], test_starts[i:i+5], test_goals[i:i+5]))\n",
        "    na_unet_outputs.append(neural_astar_unet(test_maps[i:i+5], test_starts[i:i+5], test_goals[i:i+5]))\n",
        "    va_outputs.append(vanilla_astar(test_maps[i:i+5], test_starts[i:i+5], test_goals[i:i+5]))\n",
        "    m1_outputs.append(vanilla_astar(test_maps[i:i+5], test_starts[i:i+5], test_goals[i:i+5], cost_maps=costs_1[i:i+5]))\n",
        "    m2_outputs.append(vanilla_astar(test_maps[i:i+5], test_starts[i:i+5], test_goals[i:i+5], cost_maps=costs_2[i:i+5]))"
      ],
      "metadata": {
        "colab": {
          "base_uri": "https://localhost:8080/"
        },
        "id": "DWogr1os1YsS",
        "outputId": "833e80a1-5df8-40af-9c6f-6f30344880e5"
      },
      "execution_count": null,
      "outputs": [
        {
          "output_type": "stream",
          "name": "stdout",
          "text": [
            "10\n"
          ]
        }
      ]
    },
    {
      "cell_type": "code",
      "source": [
        "calc_metrics_from_multiple_results(na_cnn_outputs, va_outputs)"
      ],
      "metadata": {
        "colab": {
          "base_uri": "https://localhost:8080/"
        },
        "id": "wOEA9O1vxM1w",
        "outputId": "cfa5a367-1752-48b8-cc3a-284400960a0d"
      },
      "execution_count": null,
      "outputs": [
        {
          "output_type": "execute_result",
          "data": {
            "text/plain": [
              "optimality: 0.698, efficiency: 0.370, h_mean: 0.472"
            ]
          },
          "metadata": {},
          "execution_count": 18
        }
      ]
    },
    {
      "cell_type": "code",
      "source": [
        "calc_metrics_from_multiple_results(na_unet_outputs, va_outputs)"
      ],
      "metadata": {
        "colab": {
          "base_uri": "https://localhost:8080/"
        },
        "id": "oRbSnB8oxs1z",
        "outputId": "2d92b03c-1317-42ce-8e1a-ec3ca8a780db"
      },
      "execution_count": null,
      "outputs": [
        {
          "output_type": "execute_result",
          "data": {
            "text/plain": [
              "optimality: 0.760, efficiency: 0.342, h_mean: 0.464"
            ]
          },
          "metadata": {},
          "execution_count": 19
        }
      ]
    },
    {
      "cell_type": "code",
      "source": [
        "calc_metrics_from_multiple_results(m1_outputs, va_outputs)"
      ],
      "metadata": {
        "colab": {
          "base_uri": "https://localhost:8080/"
        },
        "id": "t2nRX1lrxx6l",
        "outputId": "2846b827-6132-43b5-81aa-d0a2035a067b"
      },
      "execution_count": null,
      "outputs": [
        {
          "output_type": "execute_result",
          "data": {
            "text/plain": [
              "optimality: 0.728, efficiency: 0.431, h_mean: 0.532"
            ]
          },
          "metadata": {},
          "execution_count": 20
        }
      ]
    },
    {
      "cell_type": "code",
      "source": [
        "calc_metrics_from_multiple_results(m2_outputs, va_outputs)"
      ],
      "metadata": {
        "colab": {
          "base_uri": "https://localhost:8080/"
        },
        "id": "zM05Ck2qx42C",
        "outputId": "23102f6c-67a2-4ebe-b528-42c32102f333"
      },
      "execution_count": null,
      "outputs": [
        {
          "output_type": "execute_result",
          "data": {
            "text/plain": [
              "optimality: 0.673, efficiency: 0.430, h_mean: 0.516"
            ]
          },
          "metadata": {},
          "execution_count": 21
        }
      ]
    },
    {
      "cell_type": "code",
      "source": [
        "va_outputs[0].histories.shape"
      ],
      "metadata": {
        "colab": {
          "base_uri": "https://localhost:8080/"
        },
        "id": "QUUxP-gh1AhT",
        "outputId": "fd5aad05-77f3-41a2-de86-3378826bb23a"
      },
      "execution_count": null,
      "outputs": [
        {
          "output_type": "execute_result",
          "data": {
            "text/plain": [
              "torch.Size([100, 1, 64, 64])"
            ]
          },
          "metadata": {},
          "execution_count": 68
        }
      ]
    },
    {
      "cell_type": "code",
      "source": [
        "plt.figure(figsize=[20, 12])\n",
        "plt.subplot(2, 1, 1)\n",
        "plt.imshow(visualize_results(test_maps[s:e].to('cpu'), va_outputs[0]))\n",
        "plt.title(\"Vanilla A*\")\n",
        "plt.axis(\"off\")\n",
        "plt.subplot(2, 1, 2)\n",
        "plt.imshow(visualize_results(test_maps[s:e].to('cpu'), na_cnn_outputs[0]))\n",
        "plt.title(\"Neural A*\")\n",
        "plt.axis(\"off\")"
      ],
      "metadata": {
        "colab": {
          "base_uri": "https://localhost:8080/",
          "height": 639
        },
        "id": "lVKbAFG9o4bj",
        "outputId": "a7d78601-93c5-4e83-93a9-413c71daaac8"
      },
      "execution_count": null,
      "outputs": [
        {
          "output_type": "execute_result",
          "data": {
            "text/plain": [
              "(-0.5, 331.5, 67.5, -0.5)"
            ]
          },
          "metadata": {},
          "execution_count": 79
        },
        {
          "output_type": "display_data",
          "data": {
            "text/plain": [
              "<Figure size 1440x864 with 2 Axes>"
            ],
            "image/png": "[encoded data removed]"
          },
          "metadata": {
            "needs_background": "light"
          }
        }
      ]
    },
    {
      "cell_type": "code",
      "source": [
        "plt.figure(figsize=[20, 12])\n",
        "plt.subplot(2, 1, 1)\n",
        "plt.imshow(visualize_results(test_maps[s:e].to('cpu'), na_unet_outputs[0]))\n",
        "plt.title(\"Vanilla A*\")\n",
        "plt.axis(\"off\")\n",
        "plt.subplot(2, 1, 2)\n",
        "plt.imshow(visualize_results(test_maps[s:e].to('cpu'), na_cnn_outputs[0]))\n",
        "plt.title(\"Neural A*\")\n",
        "plt.axis(\"off\")"
      ],
      "metadata": {
        "colab": {
          "base_uri": "https://localhost:8080/",
          "height": 639
        },
        "id": "VKX-VDI02Q9w",
        "outputId": "83ec8ca3-4d50-487e-c489-529755bff7cb"
      },
      "execution_count": null,
      "outputs": [
        {
          "output_type": "execute_result",
          "data": {
            "text/plain": [
              "(-0.5, 331.5, 67.5, -0.5)"
            ]
          },
          "metadata": {},
          "execution_count": 80
        },
        {
          "output_type": "display_data",
          "data": {
            "text/plain": [
              "<Figure size 1440x864 with 2 Axes>"
            ],
            "image/png": "[encoded data removed]"
          },
          "metadata": {
            "needs_background": "light"
          }
        }
      ]
    },
    {
      "cell_type": "code",
      "source": [
        ""
      ],
      "metadata": {
        "id": "AqdyYtdC0eNy"
      },
      "execution_count": null,
      "outputs": []
    }
  ]
}